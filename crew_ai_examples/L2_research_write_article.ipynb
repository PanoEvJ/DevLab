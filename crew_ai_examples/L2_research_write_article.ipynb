{
 "cells": [
  {
   "cell_type": "markdown",
   "metadata": {
    "height": 45
   },
   "source": [
    "You can download the `requirements.txt` for this course from the workspace of this lab. `File --> Open...`"
   ]
  },
  {
   "cell_type": "markdown",
   "metadata": {},
   "source": [
    "# L2: Create Agents to Research and Write an Article\n",
    "\n",
    "In this lesson, you will be introduced to the foundational concepts of multi-agent systems and get an overview of the crewAI framework."
   ]
  },
  {
   "cell_type": "markdown",
   "metadata": {},
   "source": [
    "The libraries are already installed in the classroom. If you're running this notebook on your own machine, you can install the following:\n",
    "```Python\n",
    "!pip install crewai==0.28.8 crewai_tools==0.1.6 langchain_community==0.0.29\n",
    "```"
   ]
  },
  {
   "cell_type": "code",
   "execution_count": 1,
   "metadata": {
    "height": 64
   },
   "outputs": [],
   "source": [
    "# Warning control\n",
    "import warnings\n",
    "\n",
    "warnings.filterwarnings(\"ignore\")"
   ]
  },
  {
   "cell_type": "markdown",
   "metadata": {},
   "source": [
    "- Import from the crewAI libray."
   ]
  },
  {
   "cell_type": "code",
   "execution_count": 3,
   "metadata": {
    "height": 30
   },
   "outputs": [],
   "source": [
    "from crewai import Agent, Task, Crew"
   ]
  },
  {
   "cell_type": "markdown",
   "metadata": {},
   "source": [
    "- As a LLM for your agents, you'll be using OpenAI's `gpt-3.5-turbo`.\n",
    "\n",
    "**Optional Note:** crewAI also allow other popular models to be used as a LLM for your Agents. You can see some of the examples at the [bottom of the notebook](#1)."
   ]
  },
  {
   "cell_type": "code",
   "execution_count": 4,
   "metadata": {
    "height": 98
   },
   "outputs": [],
   "source": [
    "import os\n",
    "\n",
    "openai_api_key = os.environ[\"OPENAI_API_KEY\"]\n",
    "os.environ[\"OPENAI_MODEL_NAME\"] = \"gpt-3.5-turbo\""
   ]
  },
  {
   "cell_type": "markdown",
   "metadata": {},
   "source": [
    "\n",
    "irom utils import get_openai_api_key"
   ]
  },
  {
   "cell_type": "markdown",
   "metadata": {},
   "source": [
    "## Creating Agents\n",
    "\n",
    "- Define your Agents, and provide them a `role`, `goal` and `backstory`.\n",
    "- It has been seen that LLMs perform better when they are role playing."
   ]
  },
  {
   "cell_type": "markdown",
   "metadata": {},
   "source": [
    "### Agent: Planner\n",
    "\n",
    "**Note**: The benefit of using _multiple strings_ :\n",
    "```Python\n",
    "varname = \"line 1 of text\"\n",
    "          \"line 2 of text\"\n",
    "```\n",
    "\n",
    "versus the _triple quote docstring_:\n",
    "```Python\n",
    "varname = \"\"\"line 1 of text\n",
    "             line 2 of text\n",
    "          \"\"\"\n",
    "```\n",
    "is that it can avoid adding those whitespaces and newline characters, making it better formatted to be passed to the LLM."
   ]
  },
  {
   "cell_type": "code",
   "execution_count": 6,
   "metadata": {
    "height": 249
   },
   "outputs": [],
   "source": [
    "planner = Agent(\n",
    "    role=\"Content Planner\",\n",
    "    goal=\"Plan engaging and factually accurate content on {topic}\",\n",
    "    backstory=\"You're working on planning a blog article \"\n",
    "    \"about the topic: {topic}.\"\n",
    "    \"You collect information that helps the \"\n",
    "    \"audience learn something \"\n",
    "    \"and make informed decisions. \"\n",
    "    \"Your work is the basis for \"\n",
    "    \"the Content Writer to write an article on this topic.\",\n",
    "    allow_delegation=False,\n",
    "    verbose=True,\n",
    ")"
   ]
  },
  {
   "cell_type": "markdown",
   "metadata": {},
   "source": [
    "### Agent: Writer"
   ]
  },
  {
   "cell_type": "code",
   "execution_count": 8,
   "metadata": {
    "height": 385
   },
   "outputs": [],
   "source": [
    "writer = Agent(\n",
    "    role=\"Content Writer\",\n",
    "    goal=\"Write insightful and factually accurate \"\n",
    "    \"opinion piece about the topic: {topic}\",\n",
    "    backstory=\"You're working on a writing \"\n",
    "    \"a new opinion piece about the topic: {topic}. \"\n",
    "    \"You base your writing on the work of \"\n",
    "    \"the Content Planner, who provides an outline \"\n",
    "    \"and relevant context about the topic. \"\n",
    "    \"You follow the main objectives and \"\n",
    "    \"direction of the outline, \"\n",
    "    \"as provide by the Content Planner. \"\n",
    "    \"You also provide objective and impartial insights \"\n",
    "    \"and back them up with information \"\n",
    "    \"provided by the Content Planner. \"\n",
    "    \"You acknowledge in your opinion piece \"\n",
    "    \"when your statements are opinions \"\n",
    "    \"as opposed to objective statements.\",\n",
    "    allow_delegation=False,\n",
    "    verbose=True,\n",
    ")"
   ]
  },
  {
   "cell_type": "markdown",
   "metadata": {},
   "source": [
    "### Agent: Editor"
   ]
  },
  {
   "cell_type": "code",
   "execution_count": 9,
   "metadata": {
    "height": 283
   },
   "outputs": [],
   "source": [
    "editor = Agent(\n",
    "    role=\"Editor\",\n",
    "    goal=\"Edit a given blog post to align with \"\n",
    "    \"the writing style of the organization. \",\n",
    "    backstory=\"You are an editor who receives a blog post \"\n",
    "    \"from the Content Writer. \"\n",
    "    \"Your goal is to review the blog post \"\n",
    "    \"to ensure that it follows journalistic best practices,\"\n",
    "    \"provides balanced viewpoints \"\n",
    "    \"when providing opinions or assertions, \"\n",
    "    \"and also avoids major controversial topics \"\n",
    "    \"or opinions when possible.\",\n",
    "    allow_delegation=False,\n",
    "    verbose=True,\n",
    ")"
   ]
  },
  {
   "cell_type": "markdown",
   "metadata": {},
   "source": [
    "## Creating Tasks\n",
    "\n",
    "- Define your Tasks, and provide them a `description`, `expected_output` and `agent`."
   ]
  },
  {
   "cell_type": "markdown",
   "metadata": {},
   "source": [
    "### Task: Plan"
   ]
  },
  {
   "cell_type": "code",
   "execution_count": 10,
   "metadata": {
    "height": 283
   },
   "outputs": [],
   "source": [
    "plan = Task(\n",
    "    description=(\n",
    "        \"1. Prioritize the latest trends, key players, \"\n",
    "        \"and noteworthy news on {topic}.\\n\"\n",
    "        \"2. Identify the target audience, considering \"\n",
    "        \"their interests and pain points.\\n\"\n",
    "        \"3. Develop a detailed content outline including \"\n",
    "        \"an introduction, key points, and a call to action.\\n\"\n",
    "        \"4. Include SEO keywords and relevant data or sources.\"\n",
    "    ),\n",
    "    expected_output=\"A comprehensive content plan document \"\n",
    "    \"with an outline, audience analysis, \"\n",
    "    \"SEO keywords, and resources.\",\n",
    "    agent=planner,\n",
    ")"
   ]
  },
  {
   "cell_type": "markdown",
   "metadata": {},
   "source": [
    "### Task: Write"
   ]
  },
  {
   "cell_type": "code",
   "execution_count": 11,
   "metadata": {
    "height": 319
   },
   "outputs": [],
   "source": [
    "write = Task(\n",
    "    description=(\n",
    "        \"1. Use the content plan to craft a compelling \"\n",
    "        \"blog post on {topic}.\\n\"\n",
    "        \"2. Incorporate SEO keywords naturally.\\n\"\n",
    "        \"3. Sections/Subtitles are properly named \"\n",
    "        \"in an engaging manner.\\n\"\n",
    "        \"4. Ensure the post is structured with an \"\n",
    "        \"engaging introduction, insightful body, \"\n",
    "        \"and a summarizing conclusion.\\n\"\n",
    "        \"5. Proofread for grammatical errors and \"\n",
    "        \"alignment with the brand's voice.\\n\"\n",
    "    ),\n",
    "    expected_output=\"A well-written blog post \"\n",
    "    \"in markdown format, ready for publication, \"\n",
    "    \"each section should have 2 or 3 paragraphs.\",\n",
    "    agent=writer,\n",
    ")"
   ]
  },
  {
   "cell_type": "markdown",
   "metadata": {},
   "source": [
    "### Task: Edit"
   ]
  },
  {
   "cell_type": "code",
   "execution_count": 12,
   "metadata": {
    "height": 181
   },
   "outputs": [],
   "source": [
    "edit = Task(\n",
    "    description=(\n",
    "        \"Proofread the given blog post for \"\n",
    "        \"grammatical errors and \"\n",
    "        \"alignment with the brand's voice.\"\n",
    "    ),\n",
    "    expected_output=\"A well-written blog post in markdown format, \"\n",
    "    \"ready for publication, \"\n",
    "    \"each section should have 2 or 3 paragraphs.\",\n",
    "    agent=editor,\n",
    ")"
   ]
  },
  {
   "cell_type": "markdown",
   "metadata": {},
   "source": [
    "## Creating the Crew\n",
    "\n",
    "- Create your crew of Agents\n",
    "- Pass the tasks to be performed by those agents.\n",
    "    - **Note**: *For this simple example*, the tasks will be performed sequentially (i.e they are dependent on each other), so the _order_ of the task in the list _matters_.\n",
    "- `verbose=2` allows you to see all the logs of the execution. "
   ]
  },
  {
   "cell_type": "code",
   "execution_count": 13,
   "metadata": {
    "height": 98
   },
   "outputs": [],
   "source": [
    "crew = Crew(agents=[planner, writer, editor], tasks=[plan, write, edit], verbose=2)"
   ]
  },
  {
   "cell_type": "markdown",
   "metadata": {},
   "source": [
    "## Running the Crew"
   ]
  },
  {
   "cell_type": "markdown",
   "metadata": {},
   "source": [
    "**Note**: LLMs can provide different outputs for they same input, so what you get might be different than what you see in the video."
   ]
  },
  {
   "cell_type": "code",
   "execution_count": 14,
   "metadata": {
    "height": 45
   },
   "outputs": [
    {
     "name": "stdout",
     "output_type": "stream",
     "text": [
      "\u001b[1m\u001b[95m [DEBUG]: == Working Agent: Content Planner\u001b[00m\n",
      "\u001b[1m\u001b[95m [INFO]: == Starting Task: 1. Prioritize the latest trends, key players, and noteworthy news on Artificial Intelligence.\n",
      "2. Identify the target audience, considering their interests and pain points.\n",
      "3. Develop a detailed content outline including an introduction, key points, and a call to action.\n",
      "4. Include SEO keywords and relevant data or sources.\u001b[00m\n",
      "\n",
      "\n",
      "\u001b[1m> Entering new CrewAgentExecutor chain...\u001b[0m\n",
      "\u001b[32;1m\u001b[1;3mI now can give a great answer\n",
      "\n",
      "Final Answer: \n",
      "\n",
      "Content Plan: \n",
      "\n",
      "Title: The Latest Trends and Key Players in Artificial Intelligence\n",
      "\n",
      "Outline:\n",
      "I. Introduction\n",
      "- Definition of Artificial Intelligence (AI)\n",
      "- Importance of AI in various industries\n",
      "- Preview of key trends and players in the AI space\n",
      "\n",
      "II. Latest Trends in Artificial Intelligence\n",
      "- Machine learning and deep learning advancements\n",
      "- Natural language processing (NLP) innovations\n",
      "- AI in healthcare, finance, and retail sectors\n",
      "- Ethical considerations and AI regulation updates\n",
      "\n",
      "III. Key Players in Artificial Intelligence\n",
      "- Tech giants such as Google, Amazon, and Microsoft\n",
      "- Startups disrupting the AI landscape\n",
      "- Research institutions leading AI research and development\n",
      "\n",
      "IV. Target Audience Analysis\n",
      "- Professionals in technology, business, and research sectors\n",
      "- Individuals interested in AI advancements and applications\n",
      "- Decision-makers seeking insights on AI trends and key players\n",
      "- Students and academics studying AI and related fields\n",
      "\n",
      "V. SEO Keywords\n",
      "- Artificial Intelligence trends\n",
      "- Key players in AI\n",
      "- Latest advancements in machine learning\n",
      "- Ethical considerations in AI\n",
      "- Top AI startups\n",
      "- AI research institutions\n",
      "\n",
      "VI. Resources\n",
      "1. Forbes - Top AI Trends to Watch in 2021\n",
      "2. TechCrunch - Top Players in the AI Industry\n",
      "3. World Economic Forum - Ethical AI Guidelines\n",
      "4. CB Insights - AI Startup Landscape Report\n",
      "\n",
      "Call to Action:\n",
      "Stay informed about the latest trends and key players in Artificial Intelligence by subscribing to our newsletter for regular updates and insights.\n",
      "\n",
      "This content plan aims to provide a comprehensive overview of the latest trends and key players in Artificial Intelligence, catering to a diverse audience interested in AI advancements. By incorporating relevant SEO keywords and reputable resources, the blog article will offer valuable insights and actionable information for readers to stay informed and make informed decisions in the ever-evolving AI landscape.\u001b[0m\n",
      "\n",
      "\u001b[1m> Finished chain.\u001b[0m\n",
      "\u001b[1m\u001b[92m [DEBUG]: == [Content Planner] Task output: Content Plan: \n",
      "\n",
      "Title: The Latest Trends and Key Players in Artificial Intelligence\n",
      "\n",
      "Outline:\n",
      "I. Introduction\n",
      "- Definition of Artificial Intelligence (AI)\n",
      "- Importance of AI in various industries\n",
      "- Preview of key trends and players in the AI space\n",
      "\n",
      "II. Latest Trends in Artificial Intelligence\n",
      "- Machine learning and deep learning advancements\n",
      "- Natural language processing (NLP) innovations\n",
      "- AI in healthcare, finance, and retail sectors\n",
      "- Ethical considerations and AI regulation updates\n",
      "\n",
      "III. Key Players in Artificial Intelligence\n",
      "- Tech giants such as Google, Amazon, and Microsoft\n",
      "- Startups disrupting the AI landscape\n",
      "- Research institutions leading AI research and development\n",
      "\n",
      "IV. Target Audience Analysis\n",
      "- Professionals in technology, business, and research sectors\n",
      "- Individuals interested in AI advancements and applications\n",
      "- Decision-makers seeking insights on AI trends and key players\n",
      "- Students and academics studying AI and related fields\n",
      "\n",
      "V. SEO Keywords\n",
      "- Artificial Intelligence trends\n",
      "- Key players in AI\n",
      "- Latest advancements in machine learning\n",
      "- Ethical considerations in AI\n",
      "- Top AI startups\n",
      "- AI research institutions\n",
      "\n",
      "VI. Resources\n",
      "1. Forbes - Top AI Trends to Watch in 2021\n",
      "2. TechCrunch - Top Players in the AI Industry\n",
      "3. World Economic Forum - Ethical AI Guidelines\n",
      "4. CB Insights - AI Startup Landscape Report\n",
      "\n",
      "Call to Action:\n",
      "Stay informed about the latest trends and key players in Artificial Intelligence by subscribing to our newsletter for regular updates and insights.\n",
      "\n",
      "This content plan aims to provide a comprehensive overview of the latest trends and key players in Artificial Intelligence, catering to a diverse audience interested in AI advancements. By incorporating relevant SEO keywords and reputable resources, the blog article will offer valuable insights and actionable information for readers to stay informed and make informed decisions in the ever-evolving AI landscape.\n",
      "\n",
      "\u001b[00m\n",
      "\u001b[1m\u001b[95m [DEBUG]: == Working Agent: Content Writer\u001b[00m\n",
      "\u001b[1m\u001b[95m [INFO]: == Starting Task: 1. Use the content plan to craft a compelling blog post on Artificial Intelligence.\n",
      "2. Incorporate SEO keywords naturally.\n",
      "3. Sections/Subtitles are properly named in an engaging manner.\n",
      "4. Ensure the post is structured with an engaging introduction, insightful body, and a summarizing conclusion.\n",
      "5. Proofread for grammatical errors and alignment with the brand's voice.\n",
      "\u001b[00m\n",
      "\n",
      "\n",
      "\u001b[1m> Entering new CrewAgentExecutor chain...\u001b[0m\n",
      "\u001b[32;1m\u001b[1;3mI now can give a great answer\n",
      "\n",
      "Final Answer:\n",
      "\n",
      "# The Latest Trends and Key Players in Artificial Intelligence\n",
      "\n",
      "## Introduction\n",
      "\n",
      "Artificial Intelligence (AI) has become a crucial component in various industries, revolutionizing the way businesses operate and enhancing the capabilities of technology. AI refers to the simulation of human intelligence processes by machines, including learning, reasoning, and self-correction. Its importance in industries such as healthcare, finance, and retail cannot be overstated, as it enables organizations to analyze data, automate processes, and deliver personalized experiences to customers. In this blog post, we will delve into the latest trends and key players shaping the AI landscape, providing insights into the advancements and innovations driving the industry forward.\n",
      "\n",
      "## Latest Trends in Artificial Intelligence\n",
      "\n",
      "One of the most significant trends in AI is the advancement of machine learning and deep learning technologies. These developments have empowered machines to learn from data, identify patterns, and make decisions with minimal human intervention. Additionally, natural language processing (NLP) innovations have enabled machines to understand and generate human language, leading to the development of virtual assistants and chatbots that enhance customer interactions. In sectors such as healthcare, finance, and retail, AI applications are transforming operations, improving efficiency, and driving growth. However, ethical considerations and regulatory updates are crucial as AI technology continues to evolve, ensuring that it is used responsibly and ethically.\n",
      "\n",
      "## Key Players in Artificial Intelligence\n",
      "\n",
      "Tech giants such as Google, Amazon, and Microsoft are leading the way in AI research and development, leveraging their resources and expertise to drive innovation in the industry. Startups are also disrupting the AI landscape, introducing new solutions and approaches that challenge traditional practices. Research institutions play a vital role in advancing AI technologies, conducting cutting-edge research and collaborating with industry partners to push the boundaries of what is possible. By understanding the key players in the AI space, professionals, decision-makers, students, and academics can stay informed about the latest developments and opportunities in the industry.\n",
      "\n",
      "## Target Audience Analysis\n",
      "\n",
      "Professionals in technology, business, and research sectors can benefit from staying informed about AI trends and key players, gaining insights that can inform strategic decisions and drive innovation within their organizations. Individuals interested in AI advancements and applications can explore the latest developments in the industry, discovering how AI is reshaping various sectors and impacting daily life. Decision-makers seeking insights on AI trends and key players can use this information to evaluate potential partnerships, investments, and opportunities in the AI landscape. Students and academics studying AI and related fields can expand their knowledge and understanding of AI technologies, preparing for future careers in this rapidly evolving field.\n",
      "\n",
      "## Conclusion\n",
      "\n",
      "Artificial Intelligence is constantly evolving, with new trends and key players shaping the industry and driving innovation across various sectors. By staying informed about the latest advancements, ethical considerations, and key players in the AI space, individuals can navigate the complexities of this dynamic industry and harness the power of AI to drive growth and transformation. As AI continues to revolutionize the way we work, live, and interact with technology, it is essential to stay updated on the latest trends and developments to make informed decisions and stay ahead of the curve. Subscribe to our newsletter for regular updates and insights on the latest trends and key players in Artificial Intelligence.\u001b[0m\n",
      "\n",
      "\u001b[1m> Finished chain.\u001b[0m\n",
      "\u001b[1m\u001b[92m [DEBUG]: == [Content Writer] Task output: # The Latest Trends and Key Players in Artificial Intelligence\n",
      "\n",
      "## Introduction\n",
      "\n",
      "Artificial Intelligence (AI) has become a crucial component in various industries, revolutionizing the way businesses operate and enhancing the capabilities of technology. AI refers to the simulation of human intelligence processes by machines, including learning, reasoning, and self-correction. Its importance in industries such as healthcare, finance, and retail cannot be overstated, as it enables organizations to analyze data, automate processes, and deliver personalized experiences to customers. In this blog post, we will delve into the latest trends and key players shaping the AI landscape, providing insights into the advancements and innovations driving the industry forward.\n",
      "\n",
      "## Latest Trends in Artificial Intelligence\n",
      "\n",
      "One of the most significant trends in AI is the advancement of machine learning and deep learning technologies. These developments have empowered machines to learn from data, identify patterns, and make decisions with minimal human intervention. Additionally, natural language processing (NLP) innovations have enabled machines to understand and generate human language, leading to the development of virtual assistants and chatbots that enhance customer interactions. In sectors such as healthcare, finance, and retail, AI applications are transforming operations, improving efficiency, and driving growth. However, ethical considerations and regulatory updates are crucial as AI technology continues to evolve, ensuring that it is used responsibly and ethically.\n",
      "\n",
      "## Key Players in Artificial Intelligence\n",
      "\n",
      "Tech giants such as Google, Amazon, and Microsoft are leading the way in AI research and development, leveraging their resources and expertise to drive innovation in the industry. Startups are also disrupting the AI landscape, introducing new solutions and approaches that challenge traditional practices. Research institutions play a vital role in advancing AI technologies, conducting cutting-edge research and collaborating with industry partners to push the boundaries of what is possible. By understanding the key players in the AI space, professionals, decision-makers, students, and academics can stay informed about the latest developments and opportunities in the industry.\n",
      "\n",
      "## Target Audience Analysis\n",
      "\n",
      "Professionals in technology, business, and research sectors can benefit from staying informed about AI trends and key players, gaining insights that can inform strategic decisions and drive innovation within their organizations. Individuals interested in AI advancements and applications can explore the latest developments in the industry, discovering how AI is reshaping various sectors and impacting daily life. Decision-makers seeking insights on AI trends and key players can use this information to evaluate potential partnerships, investments, and opportunities in the AI landscape. Students and academics studying AI and related fields can expand their knowledge and understanding of AI technologies, preparing for future careers in this rapidly evolving field.\n",
      "\n",
      "## Conclusion\n",
      "\n",
      "Artificial Intelligence is constantly evolving, with new trends and key players shaping the industry and driving innovation across various sectors. By staying informed about the latest advancements, ethical considerations, and key players in the AI space, individuals can navigate the complexities of this dynamic industry and harness the power of AI to drive growth and transformation. As AI continues to revolutionize the way we work, live, and interact with technology, it is essential to stay updated on the latest trends and developments to make informed decisions and stay ahead of the curve. Subscribe to our newsletter for regular updates and insights on the latest trends and key players in Artificial Intelligence.\n",
      "\n",
      "\u001b[00m\n",
      "\u001b[1m\u001b[95m [DEBUG]: == Working Agent: Editor\u001b[00m\n",
      "\u001b[1m\u001b[95m [INFO]: == Starting Task: Proofread the given blog post for grammatical errors and alignment with the brand's voice.\u001b[00m\n",
      "\n",
      "\n",
      "\u001b[1m> Entering new CrewAgentExecutor chain...\u001b[0m\n",
      "\u001b[32;1m\u001b[1;3mI now can give a great answer\n",
      "\n",
      "Final Answer:\n",
      "# The Latest Trends and Key Players in Artificial Intelligence\n",
      "\n",
      "## Introduction\n",
      "\n",
      "Artificial Intelligence (AI) has become an integral part of various industries, transforming business operations and enhancing technological capabilities. AI involves machines simulating human intelligence processes like learning, reasoning, and self-correction. Its significance in sectors such as healthcare, finance, and retail cannot be overstated, as it allows organizations to analyze data, automate tasks, and provide personalized customer experiences. This blog post will explore the latest trends and key players that are shaping the AI landscape, offering insights into the advancements and innovations propelling the industry forward.\n",
      "\n",
      "## Latest Trends in Artificial Intelligence\n",
      "\n",
      "An important trend in AI is the progress of machine learning and deep learning technologies. These advancements empower machines to learn from data, recognize patterns, and make decisions with minimal human intervention. Moreover, innovations in natural language processing (NLP) enable machines to comprehend and generate human language, resulting in the creation of virtual assistants and chatbots that enhance customer interactions. In industries like healthcare, finance, and retail, AI applications are revolutionizing operations, enhancing efficiency, and fostering growth. However, it is essential to consider ethical implications and stay updated on regulatory changes as AI technology evolves, ensuring responsible and ethical usage.\n",
      "\n",
      "## Key Players in Artificial Intelligence\n",
      "\n",
      "Major tech companies such as Google, Amazon, and Microsoft are at the forefront of AI research and development, utilizing their expertise and resources to drive innovation in the field. Startups are also disrupting the AI landscape by introducing new solutions and challenging traditional methods. Research institutions play a crucial role in advancing AI technologies through cutting-edge research and collaborations with industry partners. Understanding the key players in the AI sector enables professionals, decision-makers, students, and academics to remain informed about the latest developments and opportunities in the industry.\n",
      "\n",
      "## Target Audience Analysis\n",
      "\n",
      "Professionals in technology, business, and research sectors can benefit from staying abreast of AI trends and key players, gaining insights to inform strategic decisions and foster innovation within their organizations. Individuals interested in AI advancements and applications can explore the latest industry developments, discovering how AI is reshaping various sectors and impacting daily life. Decision-makers seeking insights on AI trends and key players can utilize this information to assess potential partnerships, investments, and opportunities in the AI landscape. Students and academics studying AI and related fields can enhance their knowledge and understanding of AI technologies, preparing for future careers in this rapidly evolving field.\n",
      "\n",
      "## Conclusion\n",
      "\n",
      "Artificial Intelligence is continuously evolving, with new trends and key players shaping the industry and driving innovation across diverse sectors. By remaining informed about the latest advancements, ethical considerations, and key players in the AI space, individuals can navigate the complexities of this dynamic industry and leverage AI's potential to drive growth and transformation. As AI revolutionizes the way we work, live, and interact with technology, it is crucial to stay updated on the latest trends and developments to make informed decisions and stay ahead of the curve. Subscribe to our newsletter for regular updates and insights on the latest trends and key players in Artificial Intelligence.\u001b[0m\n",
      "\n",
      "\u001b[1m> Finished chain.\u001b[0m\n",
      "\u001b[1m\u001b[92m [DEBUG]: == [Editor] Task output: # The Latest Trends and Key Players in Artificial Intelligence\n",
      "\n",
      "## Introduction\n",
      "\n",
      "Artificial Intelligence (AI) has become an integral part of various industries, transforming business operations and enhancing technological capabilities. AI involves machines simulating human intelligence processes like learning, reasoning, and self-correction. Its significance in sectors such as healthcare, finance, and retail cannot be overstated, as it allows organizations to analyze data, automate tasks, and provide personalized customer experiences. This blog post will explore the latest trends and key players that are shaping the AI landscape, offering insights into the advancements and innovations propelling the industry forward.\n",
      "\n",
      "## Latest Trends in Artificial Intelligence\n",
      "\n",
      "An important trend in AI is the progress of machine learning and deep learning technologies. These advancements empower machines to learn from data, recognize patterns, and make decisions with minimal human intervention. Moreover, innovations in natural language processing (NLP) enable machines to comprehend and generate human language, resulting in the creation of virtual assistants and chatbots that enhance customer interactions. In industries like healthcare, finance, and retail, AI applications are revolutionizing operations, enhancing efficiency, and fostering growth. However, it is essential to consider ethical implications and stay updated on regulatory changes as AI technology evolves, ensuring responsible and ethical usage.\n",
      "\n",
      "## Key Players in Artificial Intelligence\n",
      "\n",
      "Major tech companies such as Google, Amazon, and Microsoft are at the forefront of AI research and development, utilizing their expertise and resources to drive innovation in the field. Startups are also disrupting the AI landscape by introducing new solutions and challenging traditional methods. Research institutions play a crucial role in advancing AI technologies through cutting-edge research and collaborations with industry partners. Understanding the key players in the AI sector enables professionals, decision-makers, students, and academics to remain informed about the latest developments and opportunities in the industry.\n",
      "\n",
      "## Target Audience Analysis\n",
      "\n",
      "Professionals in technology, business, and research sectors can benefit from staying abreast of AI trends and key players, gaining insights to inform strategic decisions and foster innovation within their organizations. Individuals interested in AI advancements and applications can explore the latest industry developments, discovering how AI is reshaping various sectors and impacting daily life. Decision-makers seeking insights on AI trends and key players can utilize this information to assess potential partnerships, investments, and opportunities in the AI landscape. Students and academics studying AI and related fields can enhance their knowledge and understanding of AI technologies, preparing for future careers in this rapidly evolving field.\n",
      "\n",
      "## Conclusion\n",
      "\n",
      "Artificial Intelligence is continuously evolving, with new trends and key players shaping the industry and driving innovation across diverse sectors. By remaining informed about the latest advancements, ethical considerations, and key players in the AI space, individuals can navigate the complexities of this dynamic industry and leverage AI's potential to drive growth and transformation. As AI revolutionizes the way we work, live, and interact with technology, it is crucial to stay updated on the latest trends and developments to make informed decisions and stay ahead of the curve. Subscribe to our newsletter for regular updates and insights on the latest trends and key players in Artificial Intelligence.\n",
      "\n",
      "\u001b[00m\n"
     ]
    }
   ],
   "source": [
    "result = crew.kickoff(inputs={\"topic\": \"Artificial Intelligence\"})"
   ]
  },
  {
   "cell_type": "markdown",
   "metadata": {},
   "source": [
    "- Display the results of your execution as markdown in the notebook."
   ]
  },
  {
   "cell_type": "code",
   "execution_count": 15,
   "metadata": {
    "height": 47
   },
   "outputs": [
    {
     "data": {
      "text/markdown": [
       "# The Latest Trends and Key Players in Artificial Intelligence\n",
       "\n",
       "## Introduction\n",
       "\n",
       "Artificial Intelligence (AI) has become an integral part of various industries, transforming business operations and enhancing technological capabilities. AI involves machines simulating human intelligence processes like learning, reasoning, and self-correction. Its significance in sectors such as healthcare, finance, and retail cannot be overstated, as it allows organizations to analyze data, automate tasks, and provide personalized customer experiences. This blog post will explore the latest trends and key players that are shaping the AI landscape, offering insights into the advancements and innovations propelling the industry forward.\n",
       "\n",
       "## Latest Trends in Artificial Intelligence\n",
       "\n",
       "An important trend in AI is the progress of machine learning and deep learning technologies. These advancements empower machines to learn from data, recognize patterns, and make decisions with minimal human intervention. Moreover, innovations in natural language processing (NLP) enable machines to comprehend and generate human language, resulting in the creation of virtual assistants and chatbots that enhance customer interactions. In industries like healthcare, finance, and retail, AI applications are revolutionizing operations, enhancing efficiency, and fostering growth. However, it is essential to consider ethical implications and stay updated on regulatory changes as AI technology evolves, ensuring responsible and ethical usage.\n",
       "\n",
       "## Key Players in Artificial Intelligence\n",
       "\n",
       "Major tech companies such as Google, Amazon, and Microsoft are at the forefront of AI research and development, utilizing their expertise and resources to drive innovation in the field. Startups are also disrupting the AI landscape by introducing new solutions and challenging traditional methods. Research institutions play a crucial role in advancing AI technologies through cutting-edge research and collaborations with industry partners. Understanding the key players in the AI sector enables professionals, decision-makers, students, and academics to remain informed about the latest developments and opportunities in the industry.\n",
       "\n",
       "## Target Audience Analysis\n",
       "\n",
       "Professionals in technology, business, and research sectors can benefit from staying abreast of AI trends and key players, gaining insights to inform strategic decisions and foster innovation within their organizations. Individuals interested in AI advancements and applications can explore the latest industry developments, discovering how AI is reshaping various sectors and impacting daily life. Decision-makers seeking insights on AI trends and key players can utilize this information to assess potential partnerships, investments, and opportunities in the AI landscape. Students and academics studying AI and related fields can enhance their knowledge and understanding of AI technologies, preparing for future careers in this rapidly evolving field.\n",
       "\n",
       "## Conclusion\n",
       "\n",
       "Artificial Intelligence is continuously evolving, with new trends and key players shaping the industry and driving innovation across diverse sectors. By remaining informed about the latest advancements, ethical considerations, and key players in the AI space, individuals can navigate the complexities of this dynamic industry and leverage AI's potential to drive growth and transformation. As AI revolutionizes the way we work, live, and interact with technology, it is crucial to stay updated on the latest trends and developments to make informed decisions and stay ahead of the curve. Subscribe to our newsletter for regular updates and insights on the latest trends and key players in Artificial Intelligence."
      ],
      "text/plain": [
       "<IPython.core.display.Markdown object>"
      ]
     },
     "execution_count": 15,
     "metadata": {},
     "output_type": "execute_result"
    }
   ],
   "source": [
    "from IPython.display import Markdown\n",
    "\n",
    "Markdown(result)"
   ]
  },
  {
   "cell_type": "markdown",
   "metadata": {},
   "source": [
    "## Try it Yourself\n",
    "\n",
    "- Pass in a topic of your choice and see what the agents come up with!"
   ]
  },
  {
   "cell_type": "code",
   "execution_count": 16,
   "metadata": {
    "height": 47
   },
   "outputs": [
    {
     "name": "stdout",
     "output_type": "stream",
     "text": [
      "\u001b[1m\u001b[95m [DEBUG]: == Working Agent: Content Planner\u001b[00m\n",
      "\u001b[1m\u001b[95m [INFO]: == Starting Task: 1. Prioritize the latest trends, key players, and noteworthy news on Machine Learning Fundamental Terminology.\n",
      "2. Identify the target audience, considering their interests and pain points.\n",
      "3. Develop a detailed content outline including an introduction, key points, and a call to action.\n",
      "4. Include SEO keywords and relevant data or sources.\u001b[00m\n",
      "\n",
      "\n",
      "\u001b[1m> Entering new CrewAgentExecutor chain...\u001b[0m\n",
      "\u001b[32;1m\u001b[1;3mI now can give a great answer\n",
      "\n",
      "Final Answer:\n",
      "\n",
      "Title: Understanding Machine Learning Fundamental Terminology: A Comprehensive Guide\n",
      "\n",
      "Introduction:\n",
      "- Brief explanation of what machine learning is\n",
      "- Importance of understanding fundamental terminology in machine learning\n",
      "\n",
      "Key Points:\n",
      "1. Latest Trends in Machine Learning Fundamental Terminology:\n",
      "- Overview of current trends in machine learning terminology\n",
      "- Explanation of popular terms such as algorithms, models, and datasets\n",
      "\n",
      "2. Key Players in Machine Learning Fundamental Terminology:\n",
      "- Introduction to key players in the field of machine learning\n",
      "- Profiles of influential individuals and organizations shaping the terminology landscape\n",
      "\n",
      "3. Noteworthy News on Machine Learning Fundamental Terminology:\n",
      "- Recap of recent developments in the field of machine learning terminology\n",
      "- Analysis of how these news items impact the industry and future trends\n",
      "\n",
      "Audience Analysis:\n",
      "- Target Audience: Beginners and intermediate learners interested in machine learning\n",
      "- Interests: Understanding the basics of machine learning, staying updated on industry trends\n",
      "- Pain Points: Confusion over complex terminology, difficulty in grasping foundational concepts\n",
      "\n",
      "Content Outline:\n",
      "I. Introduction\n",
      "II. Latest Trends in Machine Learning Fundamental Terminology\n",
      "III. Key Players in Machine Learning Fundamental Terminology\n",
      "IV. Noteworthy News on Machine Learning Fundamental Terminology\n",
      "V. Conclusion and Call to Action\n",
      "\n",
      "SEO Keywords:\n",
      "- Machine Learning Terminology\n",
      "- Basic Machine Learning Concepts\n",
      "- Understanding Machine Learning Language\n",
      "\n",
      "Resources:\n",
      "- Data Science Central: https://www.datasciencecentral.com/\n",
      "- Towards Data Science: https://towardsdatascience.com/\n",
      "- Machine Learning Mastery: https://machinelearningmastery.com/\n",
      "\n",
      "Conclusion:\n",
      "This content plan aims to provide a comprehensive guide on machine learning fundamental terminology, catering to the interests and pain points of our target audience. By incorporating the latest trends, key players, and noteworthy news in the field, we aim to create engaging and informative content that educates and empowers our readers.\u001b[0m\n",
      "\n",
      "\u001b[1m> Finished chain.\u001b[0m\n",
      "\u001b[1m\u001b[92m [DEBUG]: == [Content Planner] Task output: Title: Understanding Machine Learning Fundamental Terminology: A Comprehensive Guide\n",
      "\n",
      "Introduction:\n",
      "- Brief explanation of what machine learning is\n",
      "- Importance of understanding fundamental terminology in machine learning\n",
      "\n",
      "Key Points:\n",
      "1. Latest Trends in Machine Learning Fundamental Terminology:\n",
      "- Overview of current trends in machine learning terminology\n",
      "- Explanation of popular terms such as algorithms, models, and datasets\n",
      "\n",
      "2. Key Players in Machine Learning Fundamental Terminology:\n",
      "- Introduction to key players in the field of machine learning\n",
      "- Profiles of influential individuals and organizations shaping the terminology landscape\n",
      "\n",
      "3. Noteworthy News on Machine Learning Fundamental Terminology:\n",
      "- Recap of recent developments in the field of machine learning terminology\n",
      "- Analysis of how these news items impact the industry and future trends\n",
      "\n",
      "Audience Analysis:\n",
      "- Target Audience: Beginners and intermediate learners interested in machine learning\n",
      "- Interests: Understanding the basics of machine learning, staying updated on industry trends\n",
      "- Pain Points: Confusion over complex terminology, difficulty in grasping foundational concepts\n",
      "\n",
      "Content Outline:\n",
      "I. Introduction\n",
      "II. Latest Trends in Machine Learning Fundamental Terminology\n",
      "III. Key Players in Machine Learning Fundamental Terminology\n",
      "IV. Noteworthy News on Machine Learning Fundamental Terminology\n",
      "V. Conclusion and Call to Action\n",
      "\n",
      "SEO Keywords:\n",
      "- Machine Learning Terminology\n",
      "- Basic Machine Learning Concepts\n",
      "- Understanding Machine Learning Language\n",
      "\n",
      "Resources:\n",
      "- Data Science Central: https://www.datasciencecentral.com/\n",
      "- Towards Data Science: https://towardsdatascience.com/\n",
      "- Machine Learning Mastery: https://machinelearningmastery.com/\n",
      "\n",
      "Conclusion:\n",
      "This content plan aims to provide a comprehensive guide on machine learning fundamental terminology, catering to the interests and pain points of our target audience. By incorporating the latest trends, key players, and noteworthy news in the field, we aim to create engaging and informative content that educates and empowers our readers.\n",
      "\n",
      "\u001b[00m\n",
      "\u001b[1m\u001b[95m [DEBUG]: == Working Agent: Content Writer\u001b[00m\n",
      "\u001b[1m\u001b[95m [INFO]: == Starting Task: 1. Use the content plan to craft a compelling blog post on Machine Learning Fundamental Terminology.\n",
      "2. Incorporate SEO keywords naturally.\n",
      "3. Sections/Subtitles are properly named in an engaging manner.\n",
      "4. Ensure the post is structured with an engaging introduction, insightful body, and a summarizing conclusion.\n",
      "5. Proofread for grammatical errors and alignment with the brand's voice.\n",
      "\u001b[00m\n",
      "\n",
      "\n",
      "\u001b[1m> Entering new CrewAgentExecutor chain...\u001b[0m\n",
      "\u001b[32;1m\u001b[1;3mI now have a clear understanding of the task at hand and feel confident in my ability to create a compelling and informative blog post on Machine Learning Fundamental Terminology.\n",
      "\n",
      "Final Answer:\n",
      "# Understanding Machine Learning Fundamental Terminology: A Comprehensive Guide\n",
      "\n",
      "## Introduction\n",
      "Machine learning is a branch of artificial intelligence that focuses on developing algorithms and models that allow computers to learn from and make predictions or decisions based on data. Understanding fundamental terminology in machine learning is crucial for anyone looking to delve into this field, as it forms the basis for more advanced concepts and applications.\n",
      "\n",
      "## Latest Trends in Machine Learning Fundamental Terminology\n",
      "In the rapidly evolving landscape of machine learning, staying updated on the latest trends in fundamental terminology is essential. Popular terms such as algorithms, models, and datasets are constantly evolving and being refined to meet the demands of the industry. Keeping abreast of these trends can help beginners and intermediate learners navigate the complexities of machine learning terminology more effectively.\n",
      "\n",
      "## Key Players in Machine Learning Fundamental Terminology\n",
      "Key players in the field of machine learning, including influential individuals and organizations, play a significant role in shaping the terminology landscape. By understanding the contributions and perspectives of these players, learners can gain valuable insights into the development and application of fundamental concepts in machine learning. Profiles of these key players can offer valuable context and inspiration for those looking to make an impact in the field.\n",
      "\n",
      "## Noteworthy News on Machine Learning Fundamental Terminology\n",
      "Recent developments in the field of machine learning terminology provide valuable insights into industry trends and future directions. By analyzing and recapping these news items, learners can gain a deeper understanding of the impact of new terminology and concepts on the industry. This knowledge can help them stay ahead of the curve and anticipate future trends in machine learning fundamental terminology.\n",
      "\n",
      "## Conclusion and Call to Action\n",
      "In conclusion, understanding machine learning fundamental terminology is essential for anyone looking to explore the field of artificial intelligence and data science. By incorporating the latest trends, key players, and noteworthy news in this comprehensive guide, we aim to provide valuable insights and resources for our target audience of beginners and intermediate learners. Stay engaged, stay informed, and keep learning to unlock the full potential of machine learning fundamental terminology.\n",
      "\n",
      "This blog post is aimed at providing a comprehensive guide on machine learning fundamental terminology, catering to the interests and pain points of our target audience. By incorporating the latest trends, key players, and noteworthy news in the field, we aim to create engaging and informative content that educates and empowers our readers.\u001b[0m\n",
      "\n",
      "\u001b[1m> Finished chain.\u001b[0m\n",
      "\u001b[1m\u001b[92m [DEBUG]: == [Content Writer] Task output: # Understanding Machine Learning Fundamental Terminology: A Comprehensive Guide\n",
      "\n",
      "## Introduction\n",
      "Machine learning is a branch of artificial intelligence that focuses on developing algorithms and models that allow computers to learn from and make predictions or decisions based on data. Understanding fundamental terminology in machine learning is crucial for anyone looking to delve into this field, as it forms the basis for more advanced concepts and applications.\n",
      "\n",
      "## Latest Trends in Machine Learning Fundamental Terminology\n",
      "In the rapidly evolving landscape of machine learning, staying updated on the latest trends in fundamental terminology is essential. Popular terms such as algorithms, models, and datasets are constantly evolving and being refined to meet the demands of the industry. Keeping abreast of these trends can help beginners and intermediate learners navigate the complexities of machine learning terminology more effectively.\n",
      "\n",
      "## Key Players in Machine Learning Fundamental Terminology\n",
      "Key players in the field of machine learning, including influential individuals and organizations, play a significant role in shaping the terminology landscape. By understanding the contributions and perspectives of these players, learners can gain valuable insights into the development and application of fundamental concepts in machine learning. Profiles of these key players can offer valuable context and inspiration for those looking to make an impact in the field.\n",
      "\n",
      "## Noteworthy News on Machine Learning Fundamental Terminology\n",
      "Recent developments in the field of machine learning terminology provide valuable insights into industry trends and future directions. By analyzing and recapping these news items, learners can gain a deeper understanding of the impact of new terminology and concepts on the industry. This knowledge can help them stay ahead of the curve and anticipate future trends in machine learning fundamental terminology.\n",
      "\n",
      "## Conclusion and Call to Action\n",
      "In conclusion, understanding machine learning fundamental terminology is essential for anyone looking to explore the field of artificial intelligence and data science. By incorporating the latest trends, key players, and noteworthy news in this comprehensive guide, we aim to provide valuable insights and resources for our target audience of beginners and intermediate learners. Stay engaged, stay informed, and keep learning to unlock the full potential of machine learning fundamental terminology.\n",
      "\n",
      "This blog post is aimed at providing a comprehensive guide on machine learning fundamental terminology, catering to the interests and pain points of our target audience. By incorporating the latest trends, key players, and noteworthy news in the field, we aim to create engaging and informative content that educates and empowers our readers.\n",
      "\n",
      "\u001b[00m\n",
      "\u001b[1m\u001b[95m [DEBUG]: == Working Agent: Editor\u001b[00m\n",
      "\u001b[1m\u001b[95m [INFO]: == Starting Task: Proofread the given blog post for grammatical errors and alignment with the brand's voice.\u001b[00m\n",
      "\n",
      "\n",
      "\u001b[1m> Entering new CrewAgentExecutor chain...\u001b[0m\n",
      "\u001b[32;1m\u001b[1;3mI now can give a great answer\n",
      "\n",
      "Final Answer:\n",
      "# Understanding Machine Learning Fundamental Terminology: A Comprehensive Guide\n",
      "\n",
      "Machine learning, a subset of artificial intelligence, is a rapidly evolving field that focuses on developing algorithms and models to enable computers to learn from data and make predictions or decisions. For individuals looking to explore this exciting field, understanding fundamental terminology is crucial as it lays the groundwork for more advanced concepts and applications.\n",
      "\n",
      "Staying abreast of the latest trends in machine learning fundamental terminology is essential in today's dynamic landscape. Terms such as algorithms, models, and datasets are constantly evolving to meet industry demands. By keeping up with these trends, beginners and intermediate learners can navigate the complexities of machine learning terminology more effectively and stay ahead of the curve.\n",
      "\n",
      "Influential individuals and organizations are key players in shaping the terminology landscape of machine learning. By understanding their contributions and perspectives, learners can gain valuable insights into the development and application of fundamental concepts in this field. Profiles of these key players offer context and inspiration for those aspiring to make a mark in the industry.\n",
      "\n",
      "Recent developments in machine learning terminology provide valuable insights into industry trends and future directions. Analyzing and recapping these news items can deepen learners' understanding of the impact of new terminology and concepts. This knowledge equips them to anticipate future trends and stay informed in the ever-evolving world of machine learning fundamental terminology.\n",
      "\n",
      "In conclusion, grasping machine learning fundamental terminology is essential for anyone venturing into artificial intelligence and data science. By compiling the latest trends, key players, and noteworthy news in this comprehensive guide, we aim to provide valuable insights and resources for our target audience of beginners and intermediate learners. Engage with the content, stay informed, and continue learning to unlock the full potential of machine learning fundamental terminology.\u001b[0m\n",
      "\n",
      "\u001b[1m> Finished chain.\u001b[0m\n",
      "\u001b[1m\u001b[92m [DEBUG]: == [Editor] Task output: # Understanding Machine Learning Fundamental Terminology: A Comprehensive Guide\n",
      "\n",
      "Machine learning, a subset of artificial intelligence, is a rapidly evolving field that focuses on developing algorithms and models to enable computers to learn from data and make predictions or decisions. For individuals looking to explore this exciting field, understanding fundamental terminology is crucial as it lays the groundwork for more advanced concepts and applications.\n",
      "\n",
      "Staying abreast of the latest trends in machine learning fundamental terminology is essential in today's dynamic landscape. Terms such as algorithms, models, and datasets are constantly evolving to meet industry demands. By keeping up with these trends, beginners and intermediate learners can navigate the complexities of machine learning terminology more effectively and stay ahead of the curve.\n",
      "\n",
      "Influential individuals and organizations are key players in shaping the terminology landscape of machine learning. By understanding their contributions and perspectives, learners can gain valuable insights into the development and application of fundamental concepts in this field. Profiles of these key players offer context and inspiration for those aspiring to make a mark in the industry.\n",
      "\n",
      "Recent developments in machine learning terminology provide valuable insights into industry trends and future directions. Analyzing and recapping these news items can deepen learners' understanding of the impact of new terminology and concepts. This knowledge equips them to anticipate future trends and stay informed in the ever-evolving world of machine learning fundamental terminology.\n",
      "\n",
      "In conclusion, grasping machine learning fundamental terminology is essential for anyone venturing into artificial intelligence and data science. By compiling the latest trends, key players, and noteworthy news in this comprehensive guide, we aim to provide valuable insights and resources for our target audience of beginners and intermediate learners. Engage with the content, stay informed, and continue learning to unlock the full potential of machine learning fundamental terminology.\n",
      "\n",
      "\u001b[00m\n"
     ]
    }
   ],
   "source": [
    "topic = \"Machine Learning Fundamental Terminology\"\n",
    "result = crew.kickoff(inputs={\"topic\": topic})"
   ]
  },
  {
   "cell_type": "code",
   "execution_count": 17,
   "metadata": {
    "height": 30
   },
   "outputs": [
    {
     "data": {
      "text/markdown": [
       "# Understanding Machine Learning Fundamental Terminology: A Comprehensive Guide\n",
       "\n",
       "Machine learning, a subset of artificial intelligence, is a rapidly evolving field that focuses on developing algorithms and models to enable computers to learn from data and make predictions or decisions. For individuals looking to explore this exciting field, understanding fundamental terminology is crucial as it lays the groundwork for more advanced concepts and applications.\n",
       "\n",
       "Staying abreast of the latest trends in machine learning fundamental terminology is essential in today's dynamic landscape. Terms such as algorithms, models, and datasets are constantly evolving to meet industry demands. By keeping up with these trends, beginners and intermediate learners can navigate the complexities of machine learning terminology more effectively and stay ahead of the curve.\n",
       "\n",
       "Influential individuals and organizations are key players in shaping the terminology landscape of machine learning. By understanding their contributions and perspectives, learners can gain valuable insights into the development and application of fundamental concepts in this field. Profiles of these key players offer context and inspiration for those aspiring to make a mark in the industry.\n",
       "\n",
       "Recent developments in machine learning terminology provide valuable insights into industry trends and future directions. Analyzing and recapping these news items can deepen learners' understanding of the impact of new terminology and concepts. This knowledge equips them to anticipate future trends and stay informed in the ever-evolving world of machine learning fundamental terminology.\n",
       "\n",
       "In conclusion, grasping machine learning fundamental terminology is essential for anyone venturing into artificial intelligence and data science. By compiling the latest trends, key players, and noteworthy news in this comprehensive guide, we aim to provide valuable insights and resources for our target audience of beginners and intermediate learners. Engage with the content, stay informed, and continue learning to unlock the full potential of machine learning fundamental terminology."
      ],
      "text/plain": [
       "<IPython.core.display.Markdown object>"
      ]
     },
     "execution_count": 17,
     "metadata": {},
     "output_type": "execute_result"
    }
   ],
   "source": [
    "Markdown(result)"
   ]
  },
  {
   "cell_type": "markdown",
   "metadata": {},
   "source": [
    "<a name='1'></a>\n",
    " ## Other Popular Models as LLM for your Agents"
   ]
  },
  {
   "cell_type": "markdown",
   "metadata": {},
   "source": [
    "#### Hugging Face (HuggingFaceHub endpoint)\n",
    "\n",
    "```Python\n",
    "from langchain_community.llms import HuggingFaceHub\n",
    "\n",
    "llm = HuggingFaceHub(\n",
    "    repo_id=\"HuggingFaceH4/zephyr-7b-beta\",\n",
    "    huggingfacehub_api_token=\"<HF_TOKEN_HERE>\",\n",
    "    task=\"text-generation\",\n",
    ")\n",
    "\n",
    "### you will pass \"llm\" to your agent function\n",
    "```"
   ]
  },
  {
   "cell_type": "markdown",
   "metadata": {},
   "source": [
    "#### Mistral API\n",
    "\n",
    "```Python\n",
    "OPENAI_API_KEY=your-mistral-api-key\n",
    "OPENAI_API_BASE=https://api.mistral.ai/v1\n",
    "OPENAI_MODEL_NAME=\"mistral-small\"\n",
    "```"
   ]
  },
  {
   "cell_type": "markdown",
   "metadata": {},
   "source": [
    "#### Cohere\n",
    "\n",
    "```Python\n",
    "from langchain_community.chat_models import ChatCohere\n",
    "# Initialize language model\n",
    "os.environ[\"COHERE_API_KEY\"] = \"your-cohere-api-key\"\n",
    "llm = ChatCohere()\n",
    "\n",
    "### you will pass \"llm\" to your agent function\n",
    "```"
   ]
  },
  {
   "cell_type": "markdown",
   "metadata": {},
   "source": [
    "### For using Llama locally with Ollama and more, checkout the crewAI documentation on [Connecting to any LLM](https://docs.crewai.com/how-to/LLM-Connections/)."
   ]
  },
  {
   "cell_type": "code",
   "execution_count": null,
   "metadata": {
    "height": 30
   },
   "outputs": [],
   "source": []
  },
  {
   "cell_type": "code",
   "execution_count": null,
   "metadata": {
    "height": 30
   },
   "outputs": [],
   "source": []
  },
  {
   "cell_type": "code",
   "execution_count": null,
   "metadata": {
    "height": 30
   },
   "outputs": [],
   "source": []
  }
 ],
 "metadata": {
  "colab": {
   "gpuType": "T4",
   "provenance": []
  },
  "kernelspec": {
   "display_name": "Python 3 (ipykernel)",
   "language": "python",
   "name": "python3"
  },
  "language_info": {
   "codemirror_mode": {
    "name": "ipython",
    "version": 3
   },
   "file_extension": ".py",
   "mimetype": "text/x-python",
   "name": "python",
   "nbconvert_exporter": "python",
   "pygments_lexer": "ipython3",
   "version": "3.11.9"
  }
 },
 "nbformat": 4,
 "nbformat_minor": 4
}
